{
 "cells": [
  {
   "cell_type": "code",
   "execution_count": null,
   "metadata": {},
   "outputs": [],
   "source": [
    "#libraries and data\n",
    "import pandas as pd\n",
    "import matplotlib.pyplot as plt\n",
    "import requests as req"
   ]
  },
  {
   "cell_type": "code",
   "execution_count": null,
   "metadata": {},
   "outputs": [],
   "source": [
    "#Covid Data \n",
    "cov_key = \"2c3b686a09214915b1471a2f0df00d20\"\n",
    "cov_url = \"https://api.covidactnow.org/v2/states.json?apiKey=\"+cov_key\n",
    "\n",
    "#Get data\n",
    "cov_data = req.get(cov_url).json()\n",
    "\n",
    "#Create dataframe\n",
    "df = pd.DataFrame(cov_data)\n",
    "print(df)"
   ]
  },
  {
   "cell_type": "code",
   "execution_count": null,
   "metadata": {},
   "outputs": [],
   "source": [
    "#Voting Data \n",
    "vot_data = pd.read_csv(r'../data/pop_vote.csv')\n",
    "print(vot_data)"
   ]
  },
  {
   "cell_type": "code",
   "execution_count": null,
   "metadata": {},
   "outputs": [],
   "source": [
    "#Create a bar chart with the number of deaths per state\n",
    "\n",
    "cases = []\n",
    "\n",
    "#Get an array of deaths by state\n",
    "for i in range(len(df)):\n",
    "    cases.append(df['actuals'][i]['cases'])\n",
    "\n",
    "#Create an array of population by state\n",
    "pop = []\n",
    "for i in range(len(df)):\n",
    "    pop.append(df['population'][i])\n",
    "\n",
    "#Deaths per captia\n",
    "deaths_per_captia = []\n",
    "for i in range(len(df)):\n",
    "    deaths_per_captia.append(cases[i]/pop[i])\n",
    "\n",
    "#Create a dictionary of states and deaths per captia\n",
    "states = df['state'].to_list()\n",
    "d = dict(zip(states, deaths_per_captia))\n",
    "\n",
    "#Sort the dictionary\n",
    "d = {k: v for k, v in sorted(d.items(), key=lambda item: item[1])}\n",
    "\n",
    "#Create a bar chart\n",
    "plt.figure(0)\n",
    "for key, value in d.items():\n",
    "    plt.bar(key, value)\n",
    "\n",
    "plt.rcParams[\"figure.figsize\"] = [20.50, 4.50]\n",
    "plt.tick_params(axis='x', which='major', labelsize=11)\n",
    "plt.rcParams[\"figure.autolayout\"] = True\n",
    "plt.title('Cases per Capita By State')\n",
    "plt.xlabel('State')\n",
    "plt.ylabel('Cases per Capita')\n"
   ]
  }
 ],
 "metadata": {
  "kernelspec": {
   "display_name": "Python 3.11.0 ('qr-2022')",
   "language": "python",
   "name": "python3"
  },
  "language_info": {
   "codemirror_mode": {
    "name": "ipython",
    "version": 3
   },
   "file_extension": ".py",
   "mimetype": "text/x-python",
   "name": "python",
   "nbconvert_exporter": "python",
   "pygments_lexer": "ipython3",
   "version": "3.11.0"
  },
  "orig_nbformat": 4,
  "vscode": {
   "interpreter": {
    "hash": "3ffdbad002fda2d18967513b1f339de1c8ba3e48f3d380102f7d2faa53b68d18"
   }
  }
 },
 "nbformat": 4,
 "nbformat_minor": 2
}
